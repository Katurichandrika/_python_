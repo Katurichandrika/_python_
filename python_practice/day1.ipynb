{
 "cells": [
  {
   "cell_type": "markdown",
   "id": "e5525d94",
   "metadata": {},
   "source": [
    "## reverse of a given number\n"
   ]
  },
  {
   "cell_type": "code",
   "execution_count": 1,
   "id": "411cab1d",
   "metadata": {},
   "outputs": [
    {
     "name": "stdout",
     "output_type": "stream",
     "text": [
      "reverse of a number:4232\n"
     ]
    }
   ],
   "source": [
    "# reverse of a given number\n",
    "num=int(input(\"enter a number\"))\n",
    "rev=0\n",
    "while num!=0:\n",
    "    rem=num%10\n",
    "    rev=rev*10+rem\n",
    "    num=num//10\n",
    "print(f\"reverse of a number:{rev}\")"
   ]
  },
  {
   "cell_type": "markdown",
   "id": "393bb1e2",
   "metadata": {},
   "source": [
    "## for loop"
   ]
  },
  {
   "cell_type": "code",
   "execution_count": 9,
   "id": "c951e1b4",
   "metadata": {},
   "outputs": [
    {
     "name": "stdout",
     "output_type": "stream",
     "text": [
      "1 2 3 4 5 6 7 8 9 10 11 12 13 14 15 16 17 18 19 20 21 22 23 24 25 26 27 28 29 30 31 32 33 34 35 36 37 38 39 40 41 42 43 44 45 46 47 48 49 "
     ]
    }
   ],
   "source": [
    "#print n numbers\n",
    "n=int(input(\"enter a number\"))\n",
    "for i in range(1,n):\n",
    "    print(i,end = \" \")"
   ]
  },
  {
   "cell_type": "code",
   "execution_count": 42,
   "id": "dbc243ca",
   "metadata": {},
   "outputs": [
    {
     "name": "stdout",
     "output_type": "stream",
     "text": [
      "2 4 6 8 "
     ]
    }
   ],
   "source": [
    "#print even numbers upto n\n",
    "n=int(input(\"enter a number\"))\n",
    "for i in range(1,n):\n",
    "    if i%2==0:\n",
    "        print(f\"{i if i % 2 == 0 else ''}\",end=\" \")\n"
   ]
  },
  {
   "cell_type": "code",
   "execution_count": 41,
   "id": "8949d4db",
   "metadata": {},
   "outputs": [
    {
     "name": "stdout",
     "output_type": "stream",
     "text": [
      "odd\n"
     ]
    }
   ],
   "source": [
    "#finding given number is evne or odd\n",
    "n=int(input(\"enter a number\"))\n",
    "print(\"even\" if n%2==0 else \"odd\")"
   ]
  },
  {
   "cell_type": "code",
   "execution_count": 38,
   "id": "0ebeda3e",
   "metadata": {},
   "outputs": [
    {
     "name": "stdout",
     "output_type": "stream",
     "text": [
      "2 4 6 8 "
     ]
    }
   ],
   "source": [
    "#another way to printing even numbers in a given number\n",
    "n=int(input(\"enetr a number\"))\n",
    "for i in range(2,n+1,2):\n",
    "    print(f\"{i}\", end=\" \")"
   ]
  },
  {
   "cell_type": "code",
   "execution_count": 36,
   "id": "e3d35c79",
   "metadata": {},
   "outputs": [
    {
     "name": "stdout",
     "output_type": "stream",
     "text": [
      "1  3  5  7  "
     ]
    }
   ],
   "source": [
    "#print odd numbers upto n\n",
    "n=int(input(\"enter a number\"))\n",
    "for i in range(1,n):\n",
    "    print(f\"{i if i % 2 != 0 else ''}\" , end=\" \")\n"
   ]
  },
  {
   "cell_type": "code",
   "execution_count": 25,
   "id": "8eb4f295",
   "metadata": {},
   "outputs": [
    {
     "name": "stdout",
     "output_type": "stream",
     "text": [
      "1 3 5 "
     ]
    }
   ],
   "source": [
    "#easy way to print odd numbers\n",
    "n=int(input(\"enetr a number\"))\n",
    "for i in range(1,n+1,2):\n",
    "    print(f\"{i}\",end=\" \")"
   ]
  },
  {
   "cell_type": "code",
   "execution_count": 24,
   "id": "7fdbbbbd",
   "metadata": {},
   "outputs": [
    {
     "name": "stdout",
     "output_type": "stream",
     "text": [
      "sum of 5 natural numbers is 15\n"
     ]
    }
   ],
   "source": [
    "#sum of given n number\n",
    "n=int(input(\"enter a number\"))\n",
    "sum=0\n",
    "for i in range(1,n+1):\n",
    "    sum=sum+i\n",
    "print(f\"sum of {n} natural numbers is {sum}\")\n"
   ]
  },
  {
   "cell_type": "code",
   "execution_count": 22,
   "id": "d6e5562e",
   "metadata": {},
   "outputs": [
    {
     "name": "stdout",
     "output_type": "stream",
     "text": [
      "sum of even numbers in range of 5 is 6\n"
     ]
    }
   ],
   "source": [
    "#sum of n even numbers\n",
    "n=int(input(\"enter a number\"))\n",
    "sum=0\n",
    "for i in range(2,n+1,2):\n",
    "    sum=sum+i\n",
    "print(f\"sum of even numbers in range of {n} is {sum}\")"
   ]
  },
  {
   "cell_type": "code",
   "execution_count": 23,
   "id": "f0241ba8",
   "metadata": {},
   "outputs": [
    {
     "name": "stdout",
     "output_type": "stream",
     "text": [
      "sum of n odd numbers in range of 5 is 9\n"
     ]
    }
   ],
   "source": [
    "#sum of n odd numbers\n",
    "n=int(input(\"enter a number\"))\n",
    "sum=0\n",
    "for i in range(1,n+1,2):\n",
    "    sum=sum+i\n",
    "print(f\"sum of n odd numbers in range of {n} is {sum}\")"
   ]
  },
  {
   "cell_type": "markdown",
   "id": "50956930",
   "metadata": {},
   "source": [
    "## Medium level programming questions by using for loops in python"
   ]
  },
  {
   "cell_type": "code",
   "execution_count": 1,
   "id": "04129cb4",
   "metadata": {},
   "outputs": [
    {
     "name": "stdout",
     "output_type": "stream",
     "text": [
      "*  \n",
      "* *  \n",
      "* * *  \n",
      "* * * *  \n",
      "* * * * *  \n"
     ]
    }
   ],
   "source": [
    "# printing number right angled triangle\n",
    "n=int(input(\"enter a number\"))\n",
    "for i in range(n):\n",
    "    for j in range(0,i+1):\n",
    "        print('*',end=\" \")\n",
    "    print(\" \")"
   ]
  },
  {
   "cell_type": "code",
   "execution_count": 13,
   "id": "31aff6ec",
   "metadata": {},
   "outputs": [
    {
     "name": "stdout",
     "output_type": "stream",
     "text": [
      "\n",
      "1 \n",
      "2 2 \n",
      "3 3 3 \n",
      "4 4 4 4 \n"
     ]
    }
   ],
   "source": [
    "#printing numbers in the form of triangle\n",
    "n=int(input(\"enter a number\"))\n",
    "for rows in range(n):\n",
    "    for cols in range(1,rows+1):\n",
    "        print(rows,end=\" \")\n",
    "    print()"
   ]
  },
  {
   "cell_type": "code",
   "execution_count": 49,
   "id": "c793356a",
   "metadata": {},
   "outputs": [
    {
     "name": "stdout",
     "output_type": "stream",
     "text": [
      "\n",
      "1 \n",
      "1 2 \n",
      "1 2 3 \n",
      "1 2 3 4 \n",
      "1 2 3 4 5 \n"
     ]
    }
   ],
   "source": [
    "n=int(input(\"enter a number\"))\n",
    "for rows in range(n+1):\n",
    "    for cols in range(1,rows+1):\n",
    "        print(cols,end=\" \")\n",
    "    print()"
   ]
  },
  {
   "cell_type": "code",
   "execution_count": 7,
   "id": "ef92a473",
   "metadata": {},
   "outputs": [
    {
     "name": "stdout",
     "output_type": "stream",
     "text": [
      "1 \n",
      "2 3 \n",
      "3 4 5 \n",
      "4 5 6 7 \n",
      "5 6 7 8 9 \n",
      "6 7 8 9 10 11 \n"
     ]
    }
   ],
   "source": [
    "n=int(input(\"enter a number\"))\n",
    "for rows in range(0,n+1):\n",
    "    for cols in range(0,rows+1):\n",
    "        print(rows+cols+1,end=\" \")\n",
    "        \n",
    "    print()"
   ]
  },
  {
   "cell_type": "code",
   "execution_count": 10,
   "id": "ddad376c",
   "metadata": {},
   "outputs": [
    {
     "name": "stdout",
     "output_type": "stream",
     "text": [
      "A \n",
      "B C \n",
      "C D E \n",
      "D E F G \n",
      "E F G H I \n",
      "F G H I J K \n"
     ]
    }
   ],
   "source": [
    "n=int(input(\"enter a number\"))\n",
    "for rows in range(0,n+1):\n",
    "    for cols in range(0,rows+1):\n",
    "        print(chr(rows+cols+65),end=\" \")\n",
    "    print()"
   ]
  },
  {
   "cell_type": "code",
   "execution_count": null,
   "id": "cdfb7962",
   "metadata": {},
   "outputs": [
    {
     "name": "stdout",
     "output_type": "stream",
     "text": [
      "0 0 0\n",
      "1 0 1\n",
      "2 1 3\n",
      "3 2 5\n",
      "4 3 7\n"
     ]
    }
   ],
   "source": [
    "#print first col as current number and the 2nd col as the previous number of the 1st col and 3rd col is the sum of 1 and 2 cols\n",
    "n=int(input(\"\"))\n",
    "m=0\n",
    "for i in range(0,n):\n",
    "    print(i,0 if i-1<0 else i-1 , m if i - 1<0 else i+i-1)"
   ]
  },
  {
   "cell_type": "code",
   "execution_count": null,
   "id": "bb4fdfc3",
   "metadata": {},
   "outputs": [
    {
     "name": "stdout",
     "output_type": "stream",
     "text": [
      "0 p\n",
      "\n",
      "2 o\n",
      "\n",
      "4 r\n",
      "\n",
      "6 m\n",
      "\n",
      "8 i\n",
      "\n",
      "10 g\n"
     ]
    }
   ],
   "source": [
    "#print even indixes and their corresponding letter of the given rext\n",
    "text = input(\"\")\n",
    "for index, char in enumerate(text):#enumerate provides both the index and the element during iteration.\n",
    "    if  index%2==0:\n",
    "        print(f\"{index} {char}\")\n",
    "    else:\n",
    "        print()\n"
   ]
  },
  {
   "cell_type": "code",
   "execution_count": null,
   "id": "64201964",
   "metadata": {},
   "outputs": [],
   "source": []
  }
 ],
 "metadata": {
  "kernelspec": {
   "display_name": "Python 3",
   "language": "python",
   "name": "python3"
  },
  "language_info": {
   "codemirror_mode": {
    "name": "ipython",
    "version": 3
   },
   "file_extension": ".py",
   "mimetype": "text/x-python",
   "name": "python",
   "nbconvert_exporter": "python",
   "pygments_lexer": "ipython3",
   "version": "3.11.2"
  }
 },
 "nbformat": 4,
 "nbformat_minor": 5
}
